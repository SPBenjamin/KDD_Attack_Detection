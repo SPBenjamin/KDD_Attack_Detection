{
  "nbformat": 4,
  "nbformat_minor": 0,
  "metadata": {
    "colab": {
      "name": "KDD_Attack_Detection.ipynb",
      "provenance": [],
      "authorship_tag": "ABX9TyOF6+M6HXLE6gW2ZzGHiwee",
      "include_colab_link": true
    },
    "kernelspec": {
      "name": "python3",
      "display_name": "Python 3"
    },
    "language_info": {
      "name": "python"
    }
  },
  "cells": [
    {
      "cell_type": "markdown",
      "metadata": {
        "id": "view-in-github",
        "colab_type": "text"
      },
      "source": [
        "<a href=\"https://colab.research.google.com/github/SPBenjamin/KDD_Attack_Detection/blob/main/KDD_Attack_Detection.ipynb\" target=\"_parent\"><img src=\"https://colab.research.google.com/assets/colab-badge.svg\" alt=\"Open In Colab\"/></a>"
      ]
    },
    {
      "cell_type": "code",
      "execution_count": null,
      "metadata": {
        "id": "nupFlNPXXPbl"
      },
      "outputs": [],
      "source": [
        "import pandas as pd # For dataframes (tables)\n",
        "import numpy as np # For numerical operations\n",
        "import math \n",
        "import matplotlib.pyplot as plt # For plots\n",
        "import os # To import external python files\n",
        "import sys# To import external python files\n",
        "\n",
        "from pandas.plotting import scatter_matrix\n",
        "\n",
        "# This a comment"
      ]
    },
    {
      "cell_type": "code",
      "source": [
        ""
      ],
      "metadata": {
        "id": "onIV_Ev6XhrO"
      },
      "execution_count": null,
      "outputs": []
    }
  ]
}